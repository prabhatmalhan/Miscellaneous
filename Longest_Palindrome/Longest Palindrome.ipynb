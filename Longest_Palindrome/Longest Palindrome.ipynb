{
 "cells": [
  {
   "cell_type": "markdown",
   "metadata": {},
   "source": [
    "# Finding Length of Largest Palindrome"
   ]
  },
  {
   "cell_type": "code",
   "execution_count": 20,
   "metadata": {},
   "outputs": [],
   "source": [
    "def longest(str=\" \"):\n",
    "    s=set(list(str))\n",
    "    flag=False\n",
    "    len=0\n",
    "    for ch in s:\n",
    "        count=0\n",
    "        for c in str:\n",
    "            if  c==ch:\n",
    "                count+=1\n",
    "        if count%2!=0:\n",
    "            flag=True\n",
    "            count-=1\n",
    "        len+=count\n",
    "    if flag :\n",
    "        len+=1\n",
    "    return len"
   ]
  },
  {
   "cell_type": "code",
   "execution_count": 22,
   "metadata": {},
   "outputs": [
    {
     "name": "stdout",
     "output_type": "stream",
     "text": [
      "Enter the word : Prap\n",
      "length of longest palindrome = 3\n"
     ]
    }
   ],
   "source": [
    "word=input('Enter the word : ')\n",
    "print(f'length of longest palindrome = {longest(word.lower())}')"
   ]
  }
 ],
 "metadata": {
  "kernelspec": {
   "display_name": "Python 3",
   "language": "python",
   "name": "python3"
  },
  "language_info": {
   "codemirror_mode": {
    "name": "ipython",
    "version": 3
   },
   "file_extension": ".py",
   "mimetype": "text/x-python",
   "name": "python",
   "nbconvert_exporter": "python",
   "pygments_lexer": "ipython3",
   "version": "3.8.0"
  }
 },
 "nbformat": 4,
 "nbformat_minor": 4
}
